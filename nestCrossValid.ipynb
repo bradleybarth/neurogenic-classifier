{
 "cells": [
  {
   "cell_type": "code",
   "execution_count": 1,
   "metadata": {
    "collapsed": false,
    "deletable": true,
    "editable": true
   },
   "outputs": [],
   "source": [
    "# import data\n",
    "import numpy as np\n",
    "import json\n",
    "\n",
    "# Change .json filename to select animal ID number\n",
    "\n",
    "# import standard experiment data (XS) and metadata (S_labels)\n",
    "with open('data/pyData/2705_Data_S_Notch14_1.json') as f:\n",
    "    data = json.load(f)\n",
    "pxx = np.array(data[0])\n",
    "pxx = np.log(pxx)\n",
    "a, b, c = pxx.shape\n",
    "XS = pxx.reshape(a*b, c).T\n",
    "S_labels = data[1]\n",
    "\n",
    "sID = dict()\n",
    "y = dict()\n",
    "\n",
    "# Train data ONLY on standard experiments from day 1: X, S_labels where subject contains 1\n",
    "# stimON = 1 vs nonstim = 0 (baseline AND stimOFF)\n",
    "for i in range(1, 10):\n",
    "    sID[i] = []\n",
    "    y[i] = []\n",
    "\n",
    "for k in range(0, len(S_labels['allWindows']['subject'])):\n",
    "    d = int(S_labels['allWindows']['subject'][k][6])\n",
    "    sID[d].append(k)\n",
    "    y[d].append(int(S_labels['allWindows']['stimOn'][k]))\n",
    "    \n",
    "X_all = XS\n",
    "Y_all = np.array(S_labels['allWindows']['stimOn'])"
   ]
  },
  {
   "cell_type": "code",
   "execution_count": 2,
   "metadata": {
    "collapsed": false,
    "deletable": true,
    "editable": true
   },
   "outputs": [
    {
     "name": "stdout",
     "output_type": "stream",
     "text": [
      "Test day iteration:\n",
      "\t 1\n"
     ]
    },
    {
     "name": "stderr",
     "output_type": "stream",
     "text": [
      "C:\\Users\\Bradley Barth\\AppData\\Local\\Enthought\\Canopy\\edm\\envs\\User\\lib\\site-packages\\sklearn\\decomposition\\fastica_.py:118: UserWarning: FastICA did not converge. Consider increasing tolerance or the maximum number of iterations.\n",
      "  warnings.warn('FastICA did not converge. Consider increasing '\n"
     ]
    },
    {
     "name": "stdout",
     "output_type": "stream",
     "text": [
      "\t 2\n",
      "\t 3\n",
      "\t 4\n",
      "\t 5\n",
      "\t 6\n",
      "\t 7\n",
      "\t 8\n",
      "\t 9\n"
     ]
    }
   ],
   "source": [
    "# nested cross validation model: 9 days of \"standard experiment\"\n",
    "#    train model on 7 days, validate on 1, and test on 1.\n",
    "#       \\/ each training runs ICA, repeating 5 values of the number of components (C): 5, 10, 20, 50, 100\n",
    "#       \\/ validate each 7-day training for all 5 values of C on 1-day validate set - get best performing C\n",
    "#       \\/ keep test data the same, rotate the validate set through all 8 possibilities - get confidence for best C\n",
    "#    re-train model on 7 train data using the \"best\" value of C, and test on 1-day test data set.\n",
    "#    repeat this 7-1-1 model through all 9 possible sets of test data\n",
    "\n",
    "#    for testID = 1:9\n",
    "#        for validateID = 1:8\n",
    "#            for C = [5, 10, 20, 50, 100]\n",
    "#                ica\n",
    "#                clf on trainID ~= testID && trainID ~= validateID\n",
    "#                keep score, as function of testID, validateID, C\n",
    "            \n",
    "\n",
    "# convert data into frequency (scores) and component profiles (factors) from ICA\n",
    "\n",
    "from sklearn.decomposition import FastICA\n",
    "from sklearn import svm\n",
    "from sklearn.metrics import roc_curve, auc\n",
    "\n",
    "components = [5, 10, 20, 30, 40, 50, 60, 70, 80, 90, 100]\n",
    "roc_auc = np.zeros((9, 8, len(components)))\n",
    "\n",
    "list_All = list(range(0,max(sID[9])))\n",
    "t = 0\n",
    "print('Test day iteration:')\n",
    "for testDay in range(1, 10):\n",
    "    val = list(range(1,10))\n",
    "    val.remove(testDay)\n",
    "    list_notTest = [ID for ID in list_All if ID not in sID[testDay]]\n",
    "    print('\\t',testDay)\n",
    "    v = 0\n",
    "    for validateDay in val:\n",
    "        trainDay = val[:]\n",
    "        trainDay.remove(validateDay)        \n",
    "        trainID = [ID for ID in list_notTest if ID not in sID[validateDay]]        \n",
    "        c = 0\n",
    "        for C in components: \n",
    "            ica = FastICA(n_components = C, max_iter = 10000,tol = 0.0001) #max = 5000, tol = 0.001\n",
    "            X_train, X_Validate = X_all[trainID], X_all[sID[validateDay]]\n",
    "            scoresTrain = ica.fit_transform(X_train)\n",
    "            scoresValidate = ica.transform(X_Validate)\n",
    "            y_train, y_Validate = Y_all[trainID], Y_all[sID[validateDay]]\n",
    "            \n",
    "            clf = svm.SVC(kernel = 'linear', class_weight = 'balanced', probability = True)\n",
    "            y_score = clf.fit(scoresTrain, y_train).decision_function(scoresValidate)\n",
    "            fpr, tpr, _ = roc_curve(y_Validate, y_score)            \n",
    "            roc_auc[t, v, c] = auc(fpr, tpr)\n",
    "                      \n",
    "            c += 1\n",
    "        v += 1\n",
    "    t += 1"
   ]
  },
  {
   "cell_type": "code",
   "execution_count": 1,
   "metadata": {
    "collapsed": false,
    "deletable": true,
    "editable": true
   },
   "outputs": [
    {
     "ename": "NameError",
     "evalue": "name 'roc_auc' is not defined",
     "output_type": "error",
     "traceback": [
      "\u001b[1;31m---------------------------------------------------------------------------\u001b[0m",
      "\u001b[1;31mNameError\u001b[0m                                 Traceback (most recent call last)",
      "\u001b[1;32m<ipython-input-1-e83297c5f329>\u001b[0m in \u001b[0;36m<module>\u001b[1;34m()\u001b[0m\n\u001b[0;32m      1\u001b[0m \u001b[1;32mimport\u001b[0m \u001b[0mmatplotlib\u001b[0m\u001b[1;33m.\u001b[0m\u001b[0mpyplot\u001b[0m \u001b[1;32mas\u001b[0m \u001b[0mplt\u001b[0m\u001b[1;33m\u001b[0m\u001b[0m\n\u001b[1;32m----> 2\u001b[1;33m \u001b[0mplt\u001b[0m\u001b[1;33m.\u001b[0m\u001b[0mboxplot\u001b[0m\u001b[1;33m(\u001b[0m\u001b[0mroc_auc\u001b[0m\u001b[1;33m.\u001b[0m\u001b[0mreshape\u001b[0m\u001b[1;33m(\u001b[0m\u001b[1;36m9\u001b[0m\u001b[1;33m*\u001b[0m\u001b[1;36m8\u001b[0m\u001b[1;33m,\u001b[0m \u001b[0mlen\u001b[0m\u001b[1;33m(\u001b[0m\u001b[0mcomponents\u001b[0m\u001b[1;33m)\u001b[0m\u001b[1;33m)\u001b[0m\u001b[1;33m)\u001b[0m\u001b[1;33m\u001b[0m\u001b[0m\n\u001b[0m\u001b[0;32m      3\u001b[0m \u001b[0mplt\u001b[0m\u001b[1;33m.\u001b[0m\u001b[0mylim\u001b[0m\u001b[1;33m(\u001b[0m\u001b[1;33m[\u001b[0m\u001b[1;36m0\u001b[0m\u001b[1;33m,\u001b[0m \u001b[1;36m1\u001b[0m\u001b[1;33m]\u001b[0m\u001b[1;33m)\u001b[0m\u001b[1;33m\u001b[0m\u001b[0m\n\u001b[0;32m      4\u001b[0m \u001b[0mplt\u001b[0m\u001b[1;33m.\u001b[0m\u001b[0mylabel\u001b[0m\u001b[1;33m(\u001b[0m\u001b[1;34m'ROC AUC'\u001b[0m\u001b[1;33m)\u001b[0m\u001b[1;33m\u001b[0m\u001b[0m\n\u001b[0;32m      5\u001b[0m \u001b[0mplt\u001b[0m\u001b[1;33m.\u001b[0m\u001b[0mxticks\u001b[0m\u001b[1;33m(\u001b[0m\u001b[0mnp\u001b[0m\u001b[1;33m.\u001b[0m\u001b[0marange\u001b[0m\u001b[1;33m(\u001b[0m\u001b[1;36m1\u001b[0m\u001b[1;33m,\u001b[0m \u001b[1;36m1\u001b[0m\u001b[1;33m+\u001b[0m\u001b[0mlen\u001b[0m\u001b[1;33m(\u001b[0m\u001b[0mcomponents\u001b[0m\u001b[1;33m)\u001b[0m\u001b[1;33m)\u001b[0m\u001b[1;33m,\u001b[0m \u001b[0mcomponents\u001b[0m\u001b[1;33m)\u001b[0m\u001b[1;33m\u001b[0m\u001b[0m\n",
      "\u001b[1;31mNameError\u001b[0m: name 'roc_auc' is not defined"
     ]
    }
   ],
   "source": [
    "import matplotlib.pyplot as plt\n",
    "plt.boxplot(roc_auc.reshape(9*8, len(components)))\n",
    "plt.ylim([0, 1])\n",
    "plt.ylabel('ROC AUC')\n",
    "plt.xticks(np.arange(1, 1+len(components)), components)\n",
    "plt.xlabel('Number of components')\n",
    "plt.show()"
   ]
  },
  {
   "cell_type": "code",
   "execution_count": null,
   "metadata": {
    "collapsed": true,
    "deletable": true,
    "editable": true
   },
   "outputs": [],
   "source": []
  }
 ],
 "metadata": {
  "kernelspec": {
   "display_name": "Python 3",
   "language": "python",
   "name": "python3"
  },
  "language_info": {
   "codemirror_mode": {
    "name": "ipython",
    "version": 3
   },
   "file_extension": ".py",
   "mimetype": "text/x-python",
   "name": "python",
   "nbconvert_exporter": "python",
   "pygments_lexer": "ipython3",
   "version": "3.5.2"
  }
 },
 "nbformat": 4,
 "nbformat_minor": 2
}
