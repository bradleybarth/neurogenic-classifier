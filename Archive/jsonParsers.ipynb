{
 "cells": [
  {
   "cell_type": "code",
   "execution_count": 1,
   "metadata": {
    "collapsed": false,
    "deletable": true,
    "editable": true
   },
   "outputs": [],
   "source": [
    "# import data\n",
    "import numpy as np\n",
    "import json\n",
    "\n",
    "# Change .json filename to select animal ID number\n",
    "with open('data/pyData/2705/2705_Data_S_Notch14_1_test.json') as f:\n",
    "    data = json.load(f)\n",
    "    pxx = np.array(data[0])\n",
    "    label = data[1]\n",
    "\n",
    "labelKey = list(label.keys())\n",
    "labelKey.remove('allWindows')\n",
    "allkey = list(label['allWindows'].keys())\n",
    "length = 1800 #approximate number of samples in json file <25MB\n",
    "\n",
    "nFile = int(pxx.shape[2]/length)\n",
    "if np.mod(pxx.shape[2], length) != 0: \n",
    "    newdata = [[] for _ in range(nFile+1)]\n",
    "else:\n",
    "    newdata = [[] for _ in range(nFile)]\n",
    "    \n",
    "for n in range(0, nFile):\n",
    "    newdata[n]=[None, dict.fromkeys(label.keys())]\n",
    "    newdata[n][1]['allWindows'] = dict.fromkeys(label['allWindows'].keys())\n",
    "    for k in range(0, len(allkey)):\n",
    "        newdata[n][1]['allWindows'][allkey[k]] = label['allWindows'][allkey[k]][n*length : n*length + length]\n",
    "    for k in range(0, len(labelKey)):\n",
    "        newdata[n][1][labelKey[k]] = label[labelKey[k]]\n",
    "    newdata[n][0] = pxx[:, :, n*length : n*length + length].tolist()\n",
    "\n",
    "\n",
    "if np.mod(pxx.shape[2], length) != 0: \n",
    "    newdata[nFile]=[None, dict.fromkeys(label.keys())]\n",
    "    newdata[nFile][1]['allWindows'] = dict.fromkeys(label['allWindows'].keys())\n",
    "    for k in range(0, len(allkey)):\n",
    "        newdata[nFile][1]['allWindows'][allkey[k]] = label['allWindows'][allkey[k]][nFile*length : nFile*length + np.mod(pxx.shape[2], length)]\n",
    "    for k in range(0, len(labelKey)):\n",
    "        newdata[nFile][1][labelKey[k]] = label[labelKey[k]]\n",
    "    newdata[nFile][0] = pxx[:, :, n*length : n*length + np.mod(pxx.shape[2], length)].tolist()\n",
    "\n",
    "for n in range(0, nFile+(np.mod(pxx.shape[2], length) != 0)):\n",
    "    with open(str('data/pyData/2705/2705_Data_S_Notch14_1_%0.0f.json' % n), 'w') as outfile:\n",
    "        json.dump(newdata[n], outfile)"
   ]
  },
  {
   "cell_type": "code",
   "execution_count": 2,
   "metadata": {
    "collapsed": false
   },
   "outputs": [],
   "source": [
    "# import data\n",
    "import numpy as np\n",
    "import json\n",
    "\n",
    "with open('data/pyData/2705/2705_Data_S_Notch14_1_1.json') as f:\n",
    "    data = json.load(f)\n",
    "    pxx0 = np.array(data[0])\n",
    "    label0 = data[1]\n",
    "with open('data/pyData/2705/2705_Data_S_Notch14_1_1.json') as f:\n",
    "    data = json.load(f)\n",
    "    pxx1 = np.array(data[0])\n",
    "    label1 = data[1]\n",
    "with open('data/pyData/2705/2705_Data_S_Notch14_1_2.json') as f:\n",
    "    data = json.load(f)\n",
    "    pxx2 = np.array(data[0])\n",
    "    label2 = data[1]\n",
    "    \n",
    "pxx = np.concatenate([pxx0, pxx1, pxx2], axis = 2)\n",
    "\n",
    "newlabel = dict.fromkeys(label0.keys())\n",
    "labelKey = list(label0.keys())\n",
    "labelKey.remove('allWindows')\n",
    "allkey = list(label0['allWindows'].keys())\n",
    "for k in range(0, len(labelKey)):\n",
    "    newlabel[labelKey[k]] = label0[labelKey[k]]\n",
    "\n",
    "newlabel['allWindows'] = dict.fromkeys(label0['allWindows'].keys())\n",
    "\n",
    "for k in range(0, len(allkey)):\n",
    "    newlabel['allWindows'][allkey[k]] = label0['allWindows'][allkey[k]]\n",
    "    newlabel['allWindows'][allkey[k]].extend(label1['allWindows'][allkey[k]])\n",
    "    newlabel['allWindows'][allkey[k]].extend(label2['allWindows'][allkey[k]])"
   ]
  },
  {
   "cell_type": "code",
   "execution_count": null,
   "metadata": {
    "collapsed": true
   },
   "outputs": [],
   "source": []
  }
 ],
 "metadata": {
  "kernelspec": {
   "display_name": "Python 3",
   "language": "python",
   "name": "python3"
  },
  "language_info": {
   "codemirror_mode": {
    "name": "ipython",
    "version": 3
   },
   "file_extension": ".py",
   "mimetype": "text/x-python",
   "name": "python",
   "nbconvert_exporter": "python",
   "pygments_lexer": "ipython3",
   "version": "3.5.2"
  }
 },
 "nbformat": 4,
 "nbformat_minor": 2
}
